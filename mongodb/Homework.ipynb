{
 "cells": [
  {
   "cell_type": "code",
   "execution_count": 56,
   "id": "52a1163c-bd5e-47c3-b2e7-3b43b2979f7f",
   "metadata": {},
   "outputs": [
    {
     "name": "stdout",
     "output_type": "stream",
     "text": [
      "Requirement already satisfied: pymango in /opt/conda/lib/python3.11/site-packages (0.1.1)\n",
      "Requirement already satisfied: requests>=2.4.3 in /opt/conda/lib/python3.11/site-packages (from pymango) (2.31.0)\n",
      "Requirement already satisfied: charset-normalizer<4,>=2 in /opt/conda/lib/python3.11/site-packages (from requests>=2.4.3->pymango) (3.3.0)\n",
      "Requirement already satisfied: idna<4,>=2.5 in /opt/conda/lib/python3.11/site-packages (from requests>=2.4.3->pymango) (3.4)\n",
      "Requirement already satisfied: urllib3<3,>=1.21.1 in /opt/conda/lib/python3.11/site-packages (from requests>=2.4.3->pymango) (2.0.6)\n",
      "Requirement already satisfied: certifi>=2017.4.17 in /opt/conda/lib/python3.11/site-packages (from requests>=2.4.3->pymango) (2023.7.22)\n"
     ]
    }
   ],
   "source": [
    "!pip install pymango"
   ]
  },
  {
   "cell_type": "code",
   "execution_count": 57,
   "id": "13ff4104-4900-4894-8725-fe8702c696cf",
   "metadata": {},
   "outputs": [],
   "source": [
    "from pymongo import MongoClient"
   ]
  },
  {
   "cell_type": "code",
   "execution_count": 58,
   "id": "96f859c5-7b4a-4301-bb18-44166471e518",
   "metadata": {},
   "outputs": [],
   "source": [
    "# Global variable for the MongoDB connection string\n",
    "connection_string = \"mongodb://mongo:27017/\"\n",
    "\n",
    "def insert_data_to_mongodb(data_list, db_name, collection_name):\n",
    "    \"\"\"\n",
    "    Insert a given collections to mongoDB.\n",
    "    \"\"\"\n",
    "    with MongoClient(connection_string) as client:\n",
    "        db = client[db_name]\n",
    "        collection = db[collection_name]\n",
    "        collection.insert_many(data_list)"
   ]
  },
  {
   "cell_type": "code",
   "execution_count": 59,
   "id": "b25afb63-9c8a-4a2d-8c7c-fd0f1540727d",
   "metadata": {},
   "outputs": [],
   "source": [
    "# Insert persons/actors\n",
    "persons = [\n",
    "    {'id': 1, 'name': 'Charlie Sheen'}, \n",
    "    {'id': 2, 'name': 'Michael Douglas'}, \n",
    "    {'id': 3, 'name': 'Martin Sheen'}, \n",
    "    {'id': 4, 'name': 'Morgan Freeman'}\n",
    "]\n",
    "insert_data_to_mongodb(persons, \"moviedb\", \"persons\")\n",
    "\n",
    "# Insert roles\n",
    "roles = [\n",
    "  { \"person_id\": 1, \"movie_id\": 1, \"role\":[\"Bud Fox\"]},\n",
    "  { \"person_id\": 2, \"movie_id\": 1, \"role\":[\"Carl Fox\"]},\n",
    "  { \"person_id\": 3, \"movie_id\": 1, \"role\":[\"Gordon Gekko\"]},\n",
    "  { \"person_id\": 2, \"movie_id\": 2, \"role\":[\"A.J. MacInerney\"]},\n",
    "  { \"person_id\": 3, \"movie_id\": 2, \"role\":[\"President Andrew Shepherd\"]},\n",
    "  { \"person_id\": 4, \"movie_id\": 3, \"role\":[\"Ellis Boyd 'Red' Redding\"]}\n",
    "]\n",
    "insert_data_to_mongodb(roles, \"moviedb\", \"roles\")\n",
    "\n",
    "# Insert movies\n",
    "movies = [\n",
    "  { \"id\": 1, \"title\": \"Wall Street\", \"country\":\"USA\",\"year\":1987},\n",
    "  { \"id\": 2, \"title\": \"The American President\", \"country\":\"USA\",\"year\":1995},\n",
    "  { \"id\": 3, \"title\": \"The Shawshank Redemption\", \"country\":\"USA\",\"year\":1994},\n",
    "]\n",
    "insert_data_to_mongodb(movies, \"moviedb\", \"movies\")"
   ]
  },
  {
   "cell_type": "code",
   "execution_count": 60,
   "id": "88e35b59-b262-4212-8837-a270a3338a3e",
   "metadata": {},
   "outputs": [
    {
     "name": "stdout",
     "output_type": "stream",
     "text": [
      "{'_id': ObjectId('652d41847230280569ccd2ab'), 'id': 1, 'name': 'Charlie Sheen'}\n",
      "{'_id': ObjectId('652d41847230280569ccd2ac'), 'id': 2, 'name': 'Michael Douglas'}\n",
      "{'_id': ObjectId('652d41847230280569ccd2ad'), 'id': 3, 'name': 'Martin Sheen'}\n",
      "{'_id': ObjectId('652d41847230280569ccd2ae'), 'id': 4, 'name': 'Morgan Freeman'}\n"
     ]
    }
   ],
   "source": [
    "client = MongoClient(connection_string)\n",
    "db = client['moviedb']\n",
    "collection = db['persons']\n",
    "    \n",
    "# Get all actors\n",
    "actors = collection.find({})\n",
    "for actor in actors:\n",
    "    print(actor)"
   ]
  },
  {
   "cell_type": "code",
   "execution_count": 61,
   "id": "e39cffff-0f21-442a-95a0-a10ac5236901",
   "metadata": {},
   "outputs": [
    {
     "name": "stdout",
     "output_type": "stream",
     "text": [
      "{'_id': ObjectId('652d41847230280569ccd2ab'), 'id': 1, 'name': 'Charlie Sheen'}\n"
     ]
    }
   ],
   "source": [
    "# Create a query to find actors with names starting with 'C'\n",
    "query = {\"name\": {\"$regex\": \"^C\", \"$options\": \"i\"}}\n",
    "\n",
    "# Retrieve and print actors\n",
    "actors = collection.find(query)\n",
    "for actor in actors:\n",
    "    print(actor)"
   ]
  },
  {
   "cell_type": "code",
   "execution_count": 62,
   "id": "6dbb731e-ed03-4332-891d-008294e29b88",
   "metadata": {},
   "outputs": [
    {
     "name": "stdout",
     "output_type": "stream",
     "text": [
      "{'title': 'The American President', 'year': 1995}\n",
      "{'title': 'The Shawshank Redemption', 'year': 1994}\n",
      "{'title': 'Wall Street', 'year': 1987}\n"
     ]
    }
   ],
   "source": [
    "import pymongo\n",
    "collection = db[\"movies\"]\n",
    "\n",
    "# Create a query to get all movies with only the \"title\" and \"year\" fields\n",
    "projection = {\"title\": 1, \"year\": 1, \"_id\": 0}\n",
    "\n",
    "# Sort the movies from recent to old by the \"year\" field in descending order\n",
    "movies = collection.find({}, projection).sort(\"year\", pymongo.DESCENDING)\n",
    "\n",
    "# Retrieve and print the sorted movies\n",
    "for movie in movies:\n",
    "    print(movie)"
   ]
  },
  {
   "cell_type": "code",
   "execution_count": 63,
   "id": "c9ee51ec-42c0-4377-a59b-9323549fe3d6",
   "metadata": {},
   "outputs": [
    {
     "name": "stdout",
     "output_type": "stream",
     "text": [
      "{'_id': ObjectId('652d41847230280569ccd2b9'), 'id': 3, 'title': 'The Shawshank Redemption', 'country': 'USA', 'year': 1994}\n",
      "{'_id': ObjectId('652d41847230280569ccd2b8'), 'id': 2, 'title': 'The American President', 'country': 'USA', 'year': 1995}\n"
     ]
    }
   ],
   "source": [
    "# Create a query to find movies released in the 1990s\n",
    "query = {\"year\": {\"$gte\": 1990, \"$lt\": 2000}}\n",
    "\n",
    "# Sort the movies from old to recent by the \"year\" field in ascending order\n",
    "movies = collection.find(query).sort(\"year\", pymongo.ASCENDING)\n",
    "\n",
    "# Retrieve and print the sorted movies\n",
    "for movie in movies:\n",
    "    print(movie)"
   ]
  },
  {
   "cell_type": "code",
   "execution_count": 71,
   "id": "39b481b4-d492-4cf2-bfc4-8cc3b82e697a",
   "metadata": {},
   "outputs": [
    {
     "name": "stdout",
     "output_type": "stream",
     "text": [
      "['Charlie Sheen'] : Wall Street\n",
      "['Michael Douglas'] : Wall Street\n",
      "['Martin Sheen'] : Wall Street\n",
      "['Michael Douglas'] : The American President\n",
      "['Martin Sheen'] : The American President\n",
      "['Morgan Freeman'] : The Shawshank Redemption\n"
     ]
    }
   ],
   "source": [
    "movies_collection = db[\"movies\"]\n",
    "roles_collection = db[\"roles\"]\n",
    "persons_collection = db[\"persons\"]\n",
    "\n",
    "# Use the $lookup operator to join the movies and roles collections\n",
    "pipeline = [\n",
    "    {\n",
    "        \"$lookup\": {\n",
    "            \"from\": \"roles\",           # Name of the roles collection\n",
    "            \"localField\": \"id\",        # Field in the movies collection\n",
    "            \"foreignField\": \"movie_id\", # Field in the roles collection\n",
    "            \"as\": \"actors\"             # Alias for the joined documents\n",
    "        }\n",
    "    },\n",
    "    {\n",
    "        \"$unwind\": \"$actors\"  # Flatten the \"actors\" array\n",
    "    },\n",
    "    {\n",
    "        \"$lookup\": {\n",
    "            \"from\": \"persons\",        # Name of the persons collection\n",
    "            \"localField\": \"actors.person_id\", # Field in the roles collection\n",
    "            \"foreignField\": \"id\",      # Field in the persons collection\n",
    "            \"as\": \"actor_details\"      # Alias for the joined persons\n",
    "        }\n",
    "    },\n",
    "    {\n",
    "        \"$project\": {\n",
    "            \"_id\": 0,\n",
    "            \"actor\": \"$actor_details.name\",\n",
    "            \"movie\": \"$title\"\n",
    "        }\n",
    "    }\n",
    "]\n",
    "\n",
    "result = movies_collection.aggregate(pipeline)\n",
    "\n",
    "for item in result:\n",
    "    print(f\"{item['actor']} : {item['movie']}\")\n"
   ]
  },
  {
   "cell_type": "code",
   "execution_count": 65,
   "id": "247262b6-4d16-4ea2-a3b6-8be9364d8b96",
   "metadata": {},
   "outputs": [
    {
     "name": "stdout",
     "output_type": "stream",
     "text": [
      "Morgan Freeman acted in 1 movies\n",
      "Michael Douglas acted in 2 movies\n",
      "Martin Sheen acted in 2 movies\n",
      "Charlie Sheen acted in 1 movies\n"
     ]
    }
   ],
   "source": [
    "# Perform aggregation to get the count of movies for each actor\n",
    "pipeline = [\n",
    "    {\n",
    "        \"$lookup\": {\n",
    "            \"from\": \"roles\",\n",
    "            \"localField\": \"id\",\n",
    "            \"foreignField\": \"person_id\",\n",
    "            \"as\": \"actor_roles\"\n",
    "        }\n",
    "    },\n",
    "    {\n",
    "        \"$unwind\": \"$actor_roles\"\n",
    "    },\n",
    "    {\n",
    "        \"$group\": {\n",
    "            \"_id\": \"$name\",\n",
    "            \"count\": {\"$sum\": 1}\n",
    "        }\n",
    "    }\n",
    "]\n",
    "\n",
    "result = persons_collection.aggregate(pipeline)\n",
    "\n",
    "for item in result:\n",
    "    print(f\"{item['_id']} acted in {item['count']} movies\")"
   ]
  },
  {
   "cell_type": "code",
   "execution_count": 72,
   "id": "82734e75-df58-4a20-a664-7bf4e6dbc796",
   "metadata": {},
   "outputs": [
    {
     "name": "stdout",
     "output_type": "stream",
     "text": [
      "Michael Douglas played in the following movies:\n",
      "['Wall Street', 'The American President']\n",
      "Martin Sheen played in the following movies:\n",
      "['Wall Street', 'The American President']\n",
      "Charlie Sheen played in the following movies:\n",
      "['Wall Street']\n",
      "Morgan Freeman played in the following movies:\n",
      "['The Shawshank Redemption']\n"
     ]
    }
   ],
   "source": [
    "# Perform aggregation to list movies for each actor\n",
    "pipeline = [\n",
    "    {\n",
    "        \"$lookup\": {\n",
    "            \"from\": \"roles\",\n",
    "            \"localField\": \"id\",\n",
    "            \"foreignField\": \"person_id\",\n",
    "            \"as\": \"actor_roles\"\n",
    "        }\n",
    "    },\n",
    "    {\n",
    "        \"$unwind\": \"$actor_roles\"\n",
    "    },\n",
    "    {\n",
    "        \"$lookup\": {\n",
    "            \"from\": \"movies\",\n",
    "            \"localField\": \"actor_roles.movie_id\",\n",
    "            \"foreignField\": \"id\",\n",
    "            \"as\": \"movie_details\"\n",
    "        }\n",
    "    },\n",
    "    {\n",
    "        \"$group\": {\n",
    "            \"_id\": \"$name\",\n",
    "            \"movies\": {\"$push\": \"$movie_details.title\"}\n",
    "        }\n",
    "    }\n",
    "]\n",
    "\n",
    "result = persons_collection.aggregate(pipeline)\n",
    "\n",
    "for item in result:\n",
    "    print(f\"{item['_id']} played in the following movies:\")\n",
    "    print([movie[0] for movie in item['movies']])"
   ]
  },
  {
   "cell_type": "code",
   "execution_count": 75,
   "id": "bbc4158c-ceef-430b-951e-cf3817ea73cb",
   "metadata": {},
   "outputs": [
    {
     "name": "stdout",
     "output_type": "stream",
     "text": [
      "Persons/Actors who acted in 'Wall Street':\n",
      "Charlie Sheen\n",
      "Michael Douglas\n",
      "Martin Sheen\n"
     ]
    }
   ],
   "source": [
    "# Find the movie \"Wall Street\"\n",
    "wall_street_movie = movies_collection.find_one({\"title\": \"Wall Street\"})\n",
    "\n",
    "if wall_street_movie:\n",
    "    # Get the movie's ID\n",
    "    movie_id = wall_street_movie[\"id\"]\n",
    "\n",
    "    # Use the $lookup operator to find the actors who acted in \"Wall Street\"\n",
    "    pipeline = [\n",
    "        {\n",
    "            \"$match\": {\"movie_id\": movie_id}\n",
    "        },\n",
    "        {\n",
    "            \"$lookup\": {\n",
    "                \"from\": \"persons\",\n",
    "                \"localField\": \"person_id\",\n",
    "                \"foreignField\": \"id\",\n",
    "                \"as\": \"actors\"\n",
    "            }\n",
    "        },\n",
    "        {\n",
    "            \"$unwind\": \"$actors\"\n",
    "        },\n",
    "        {\n",
    "            \"$project\": {\n",
    "                \"_id\": 0,\n",
    "                \"actor\": \"$actors.name\"\n",
    "            }\n",
    "        }\n",
    "    ]\n",
    "\n",
    "    result = roles_collection.aggregate(pipeline)\n",
    "\n",
    "    print(\"Persons/Actors who acted in 'Wall Street':\")\n",
    "    for item in result:\n",
    "        print(item[\"actor\"])\n",
    "else:\n",
    "    print(\"The movie 'Wall Street' was not found in the database.\")"
   ]
  },
  {
   "cell_type": "code",
   "execution_count": 77,
   "id": "36c2b516-75a9-490b-8ca7-db92ce32ef08",
   "metadata": {},
   "outputs": [
    {
     "name": "stdout",
     "output_type": "stream",
     "text": [
      "Movies in which Michael Douglas has played a role:\n",
      "Wall Street\n",
      "The American President\n"
     ]
    }
   ],
   "source": [
    "# Find the person document for \"Michael Douglas\"\n",
    "michael_douglas = persons_collection.find_one({\"name\": \"Michael Douglas\"})\n",
    "\n",
    "if michael_douglas:\n",
    "    # Get the actor's ID\n",
    "    actor_id = michael_douglas[\"id\"]\n",
    "\n",
    "    # Use the $lookup and $match stages to find the movies with the actor's ID\n",
    "    pipeline = [\n",
    "        {\n",
    "            \"$lookup\": {\n",
    "                \"from\": \"roles\",\n",
    "                \"localField\": \"id\",\n",
    "                \"foreignField\": \"movie_id\",\n",
    "                \"as\": \"movie_roles\"\n",
    "            }\n",
    "        },\n",
    "        {\n",
    "            \"$match\": {\n",
    "                \"movie_roles.person_id\": actor_id\n",
    "            }\n",
    "        }\n",
    "    ]\n",
    "\n",
    "    result = movies_collection.aggregate(pipeline)\n",
    "\n",
    "    print(\"Movies in which Michael Douglas has played a role:\")\n",
    "    for movie in result:\n",
    "        print(movie[\"title\"])\n",
    "else:\n",
    "    print(\"Michael Douglas not found in the database.\")"
   ]
  },
  {
   "cell_type": "code",
   "execution_count": 78,
   "id": "6aa8a166-6241-47b2-97e5-9087adf06e71",
   "metadata": {},
   "outputs": [
    {
     "name": "stdout",
     "output_type": "stream",
     "text": [
      "Number of movies in the database: 3\n"
     ]
    }
   ],
   "source": [
    "# Get the count of movies in the collection\n",
    "movie_count = movies_collection.count_documents({})\n",
    "\n",
    "print(\"Number of movies in the database:\", movie_count)"
   ]
  },
  {
   "cell_type": "code",
   "execution_count": 79,
   "id": "69c43108-2fb1-4097-bae6-ca095eb34935",
   "metadata": {},
   "outputs": [
    {
     "name": "stdout",
     "output_type": "stream",
     "text": [
      "Updated 'Wall Street' movie year to 2000\n"
     ]
    }
   ],
   "source": [
    "\n",
    "# Define the query to find the 'Wall Street' movie\n",
    "query = {\"title\": \"Wall Street\"}\n",
    "\n",
    "# Define the update to set the year to 2000\n",
    "update = {\"$set\": {\"year\": 2000}}\n",
    "\n",
    "# Use the update_one method to update the movie\n",
    "result = movies_collection.update_one(query, update)\n",
    "\n",
    "if result.modified_count > 0:\n",
    "    print(\"Updated 'Wall Street' movie year to 2000\")\n",
    "else:\n",
    "    print(\"No matching documents found for 'Wall Street' movie\")"
   ]
  },
  {
   "cell_type": "code",
   "execution_count": 80,
   "id": "43b37be3-d1d2-4cf5-9bdc-cc761da0c3d3",
   "metadata": {},
   "outputs": [
    {
     "name": "stdout",
     "output_type": "stream",
     "text": [
      "Deleted 3 persons with names starting with 'M'\n"
     ]
    }
   ],
   "source": [
    "# Define the filter to delete persons with names starting with 'M'\n",
    "filter = {\"name\": {\"$regex\": \"^M\"}}\n",
    "\n",
    "# Use the delete_many method to delete matching documents\n",
    "result = persons_collection.delete_many(filter)\n",
    "\n",
    "print(f\"Deleted {result.deleted_count} persons with names starting with 'M'\")"
   ]
  },
  {
   "cell_type": "code",
   "execution_count": 82,
   "id": "c3854cd3-57cf-4aa7-8370-7abb5232f28d",
   "metadata": {},
   "outputs": [
    {
     "data": {
      "text/plain": [
       "<pymongo.results.InsertManyResult at 0xffffa1851ea0>"
      ]
     },
     "execution_count": 82,
     "metadata": {},
     "output_type": "execute_result"
    }
   ],
   "source": [
    "# Add the \"The Matrix\" movie to the Movies collection\n",
    "matrix_movie = {\n",
    "    \"id\": 6,  # Replace with a unique ID\n",
    "    \"title\": \"The Matrix\",\n",
    "    \"country\": \"USA\",\n",
    "    \"year\": 1999,\n",
    "    \"tagline\": \"Welcome to the Real World\"\n",
    "}\n",
    "movies_collection.insert_one(matrix_movie)\n",
    "\n",
    "# Insert the new actors to the Person collection\n",
    "new_actor_list = [\n",
    "    {\"id\": 5, \"name\": \"Keanu Reeves\", \"born\": 1964},\n",
    "    {\"id\": 6, \"name\": \"Carrie-Anne Moss\", \"born\": 1967},\n",
    "    {\"id\": 7, \"name\": \"Laurence Fishburne\", \"born\": 1960},\n",
    "    {\"id\": 8, \"name\": \"Hugo Weaving\", \"born\": 1960}\n",
    "]\n",
    "persons_collection.insert_many(new_actor_list)\n",
    "\n",
    "# Insert the new directors to the Person collection\n",
    "new_directors = [\n",
    "    {\"id\": 9, \"name\": \"Lilly Wachowski\", \"born\": 1967, \"label\": \"Director\"},\n",
    "    {\"id\": 10, \"name\": \"Lana Wachowski\", \"born\": 1965, \"label\": \"Director\"}\n",
    "]\n",
    "persons_collection.insert_many(new_directors)\n",
    "\n",
    "# Create the \"Directed\" collection and insert data into it\n",
    "directed_collection = db[\"directed\"]\n",
    "\n",
    "directed_data = [\n",
    "    {\"director_id\": 9, \"movie_id\": 6},  # Lilly Wachowski directed \"The Matrix\"\n",
    "    {\"director_id\": 10, \"movie_id\": 6}  # Lana Wachowski directed \"The Matrix\"\n",
    "]\n",
    "directed_collection.insert_many(directed_data)\n"
   ]
  },
  {
   "cell_type": "code",
   "execution_count": 84,
   "id": "1a73c953-b6f0-48b1-b1ca-888b9ed10759",
   "metadata": {},
   "outputs": [
    {
     "name": "stdout",
     "output_type": "stream",
     "text": [
      "Directors:\n",
      "Lilly Wachowski\n",
      "Lana Wachowski\n"
     ]
    }
   ],
   "source": [
    "\n",
    "# Get only the directors from the Person collection\n",
    "directors = persons_collection.find({\"label\": \"Director\"})\n",
    "\n",
    "print(\"Directors:\")\n",
    "for director in directors:\n",
    "    print(director[\"name\"])\n"
   ]
  },
  {
   "cell_type": "code",
   "execution_count": 85,
   "id": "088441ac-d5a3-4418-9665-c85552bdb8ad",
   "metadata": {},
   "outputs": [
    {
     "name": "stdout",
     "output_type": "stream",
     "text": [
      "\n",
      "Directors of 'The Matrix':\n",
      "Name: Lilly Wachowski Born Year: [1967]\n",
      "Name: Lana Wachowski Born Year: [1965]\n"
     ]
    }
   ],
   "source": [
    "\n",
    "# Query to get persons (names and born year) who Directed \"The Matrix\" movie\n",
    "directed_query = directed_collection.aggregate([\n",
    "    {\n",
    "        \"$match\": {\"movie_id\": 6}\n",
    "    },\n",
    "    {\n",
    "        \"$lookup\": {\n",
    "            \"from\": \"persons\",\n",
    "            \"localField\": \"director_id\",\n",
    "            \"foreignField\": \"id\",\n",
    "            \"as\": \"directors\"\n",
    "        }\n",
    "    },\n",
    "    {\n",
    "        \"$project\": {\n",
    "            \"_id\": 0,\n",
    "            \"name\": \"$directors.name\",\n",
    "            \"born\": \"$directors.born\"\n",
    "        }\n",
    "    }\n",
    "])\n",
    "\n",
    "print(\"\\nDirectors of 'The Matrix':\")\n",
    "for result in directed_query:\n",
    "    for director in result[\"name\"]:\n",
    "        print(\"Name:\", director, \"Born Year:\", result[\"born\"])"
   ]
  }
 ],
 "metadata": {
  "kernelspec": {
   "display_name": "Python 3 (ipykernel)",
   "language": "python",
   "name": "python3"
  },
  "language_info": {
   "codemirror_mode": {
    "name": "ipython",
    "version": 3
   },
   "file_extension": ".py",
   "mimetype": "text/x-python",
   "name": "python",
   "nbconvert_exporter": "python",
   "pygments_lexer": "ipython3",
   "version": "3.11.6"
  }
 },
 "nbformat": 4,
 "nbformat_minor": 5
}
